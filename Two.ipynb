{
 "cells": [
  {
   "cell_type": "code",
   "execution_count": null,
   "metadata": {},
   "outputs": [
    {
     "name": "stdout",
     "output_type": "stream",
     "text": [
      "а\n"
     ]
    }
   ],
   "source": [
    "word = input(\"Введите слово: \")\n",
    "\n",
    "length = len(word)\n",
    "\n",
    "# Проверка четности количества букв\n",
    "if length % 2 == 0:\n",
    "    #тут делаем срез для двух букв с и до в середине\n",
    "    middle = word[(length // 2 - 1):(length // 2 + 1)]\n",
    "else:\n",
    "    #аналогично срез, но интервал не нужен\n",
    "    middle = word[length // 2]\n",
    "\n",
    "\n",
    "print(middle)\n"
   ]
  },
  {
   "cell_type": "code",
   "execution_count": 3,
   "metadata": {},
   "outputs": [
    {
     "name": "stdout",
     "output_type": "stream",
     "text": [
      "Результат: 18\n"
     ]
    }
   ],
   "source": [
    "total_sum = 0\n",
    "\n",
    "while True:\n",
    "    # Запрос числа у пользователя\n",
    "    number = int(input(\"Введите число: \"))\n",
    "    \n",
    "    #проверяем ввод нуля\n",
    "    if number == 0:\n",
    "        # показываем сумму и результат\n",
    "        print(f\"Результат: {total_sum}\")\n",
    "        break\n",
    "    \n",
    "    # если не ноль, то прибавляем к текущему числу\n",
    "    total_sum += number"
   ]
  },
  {
   "cell_type": "code",
   "execution_count": 6,
   "metadata": {},
   "outputs": [
    {
     "name": "stdout",
     "output_type": "stream",
     "text": [
      "Идеальные пары:\n",
      "Alex и Emma\n",
      "Arthur и Julia\n",
      "John и Kate\n",
      "Michael и Kira\n",
      "Peter и Liza\n",
      "Richard и Trisha\n"
     ]
    }
   ],
   "source": [
    "boys = ['Peter', 'Alex', 'John', 'Arthur', 'Richard', 'Michael']\n",
    "girls = ['Kate', 'Liza', 'Kira', 'Emma', 'Trisha', 'Julia']\n",
    "\n",
    "#сравниваем количество\n",
    "if len(boys) != len(girls):\n",
    "    print(\"Внимание, кто-то может остаться без пары!\")\n",
    "else:\n",
    "    # Сортировка списков имен\n",
    "    boys_sort = sorted(boys)\n",
    "    girls_sort = sorted(girls)\n",
    "    \n",
    "    # Создание пар\n",
    "    print(\"Идеальные пары:\")\n",
    "    for boy, girl in zip(boys_sort, girls_sort):\n",
    "        print(f\"{boy} и {girl}\")\n"
   ]
  },
  {
   "cell_type": "code",
   "execution_count": 9,
   "metadata": {},
   "outputs": [
    {
     "name": "stdout",
     "output_type": "stream",
     "text": [
      "Средняя температура в странах:\n",
      "Таиланд  -  23.9 С\n",
      "Германия  -  13.8 С\n",
      "Россия  -  3.7 С\n",
      "Польша  -  12.0 С\n"
     ]
    }
   ],
   "source": [
    "countries_temperature = [\n",
    "    ['Таиланд', [75.2, 77, 78.8, 73.4, 68, 75.2, 77]],\n",
    "    ['Германия', [57.2, 55.4, 59, 59, 53.6]],\n",
    "    ['Россия', [35.6, 37.4, 39.2, 41, 42.8, 39.2, 35.6]],\n",
    "    ['Польша', [50, 50, 53.6, 57.2, 55.4, 55.4]]\n",
    "]\n",
    "\n",
    "print(\"Средняя температура в странах:\")\n",
    "\n",
    "# Проходимся по каждой стране\n",
    "for country in countries_temperature:\n",
    "    name = country[0]\n",
    "    temp_fahrenheit = country[1]\n",
    "    \n",
    "    # Средняя температура в Фаренгейтах\n",
    "    avg_temp_fahrenheit = sum(temp_fahrenheit) / len(temp_fahrenheit)\n",
    "    \n",
    "    # Переводим в Цельсии (не уверен в формуле)\n",
    "    avg_temp_celsius = (avg_temp_fahrenheit - 32) * 5 / 9\n",
    "    \n",
    "    print(f\"{name}  -  {avg_temp_celsius:.1f} С\")\n"
   ]
  }
 ],
 "metadata": {
  "kernelspec": {
   "display_name": "Python 3",
   "language": "python",
   "name": "python3"
  },
  "language_info": {
   "codemirror_mode": {
    "name": "ipython",
    "version": 3
   },
   "file_extension": ".py",
   "mimetype": "text/x-python",
   "name": "python",
   "nbconvert_exporter": "python",
   "pygments_lexer": "ipython3",
   "version": "3.9.6"
  }
 },
 "nbformat": 4,
 "nbformat_minor": 2
}
