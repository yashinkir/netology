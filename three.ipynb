{
 "cells": [
  {
   "cell_type": "code",
   "execution_count": 1,
   "metadata": {},
   "outputs": [
    {
     "name": "stdout",
     "output_type": "stream",
     "text": [
      "{98, 35, 15, 213, 54, 119}\n"
     ]
    }
   ],
   "source": [
    "ids = {\n",
    "    'user1': [213, 213, 213, 15, 213],\n",
    "    'user2': [54, 54, 119, 119, 119],\n",
    "    'user3': [213, 98, 98, 35]\n",
    "}\n",
    "\n",
    "# Создание множества через set()\n",
    "unique_geo_ids = set()\n",
    "\n",
    "# Итерация по каждому пользователю и добавление в множество\n",
    "for user, geo_ids in ids.items():\n",
    "    unique_geo_ids.update(geo_ids)\n",
    "\n",
    "print(unique_geo_ids)\n"
   ]
  },
  {
   "cell_type": "code",
   "execution_count": 2,
   "metadata": {},
   "outputs": [
    {
     "name": "stdout",
     "output_type": "stream",
     "text": [
      "Поисковых запросов, содержащих 3 слов(а): 57.14%\n",
      "Поисковых запросов, содержащих 2 слов(а): 42.86%\n"
     ]
    }
   ],
   "source": [
    "queries = [\n",
    "    'смотреть сериалы онлайн',\n",
    "    'новости спорта',\n",
    "    'афиша кино',\n",
    "    'курс доллара',\n",
    "    'сериалы этим летом',\n",
    "    'курс по питону',\n",
    "    'сериалы про спорт',\n",
    "]\n",
    "\n",
    "# Словарь для хранения количества запросов с определенным числом слов\n",
    "word_count_distribution = {}\n",
    "\n",
    "# Подсчет количества слов в каждом запросе и обновление словаря\n",
    "for query in queries:\n",
    "    # Подсчет количества слов в запросе\n",
    "    count = len(query.split())\n",
    "    # Обновляем словарь, если если такой ключ уже есть, то увеличиваем значение\n",
    "    if count in word_count_distribution:\n",
    "        word_count_distribution[count] += 1\n",
    "    else:\n",
    "        word_count_distribution[count] = 1\n",
    "\n",
    "total_queries = len(queries)\n",
    "\n",
    "for count, num_queries in word_count_distribution.items():\n",
    "    percentage = (num_queries / total_queries) * 100\n",
    "    print(f\"Поисковых запросов, содержащих {count} слов(а): {percentage:.2f}%\")\n"
   ]
  },
  {
   "cell_type": "code",
   "execution_count": 3,
   "metadata": {},
   "outputs": [
    {
     "name": "stdout",
     "output_type": "stream",
     "text": [
      "{'vk': {'revenue': 103, 'cost': 98, 'ROI': 5.1}, 'yandex': {'revenue': 179, 'cost': 153, 'ROI': 16.99}, 'facebook': {'revenue': 103, 'cost': 110, 'ROI': -6.36}, 'adwords': {'revenue': 35, 'cost': 34, 'ROI': 2.94}, 'twitter': {'revenue': 11, 'cost': 24, 'ROI': -54.17}}\n"
     ]
    }
   ],
   "source": [
    "results = {\n",
    "    'vk': {'revenue': 103, 'cost': 98},\n",
    "    'yandex': {'revenue': 179, 'cost': 153},\n",
    "    'facebook': {'revenue': 103, 'cost': 110},\n",
    "    'adwords': {'revenue': 35, 'cost': 34},\n",
    "    'twitter': {'revenue': 11, 'cost': 24},\n",
    "}\n",
    "\n",
    "# Проходимся по каждому источнику в источнике\n",
    "for source, metrics in results.items():\n",
    "    # берем значения revenue и cost из словаря\n",
    "    revenue = metrics['revenue']\n",
    "    cost = metrics['cost']\n",
    "    # Вычисляем ROI\n",
    "    roi = ((revenue / cost) - 1) * 100\n",
    "    # бахаем в словарь значение ROI\n",
    "    metrics['ROI'] = round(roi, 2)\n",
    "\n",
    "print(results)"
   ]
  },
  {
   "cell_type": "code",
   "execution_count": 5,
   "metadata": {},
   "outputs": [
    {
     "name": "stdout",
     "output_type": "stream",
     "text": [
      "Максимальный объем продаж на рекламном канале: email\n"
     ]
    }
   ],
   "source": [
    "stats = {'facebook': 55, 'yandex': 115, 'vk': 120, 'google': 99, 'email': 420, 'ok': 98}\n",
    "\n",
    "max_sales = -1\n",
    "max_channel = None\n",
    "\n",
    "# Проходимся по всем каналам и их значениям\n",
    "for channel, sales in stats.items():\n",
    "    if sales > max_sales:\n",
    "        max_sales = sales\n",
    "        max_channel = channel\n",
    "\n",
    "print(f\"Максимальный объем продаж на рекламном канале: {max_channel}\")\n"
   ]
  }
 ],
 "metadata": {
  "kernelspec": {
   "display_name": "Python 3",
   "language": "python",
   "name": "python3"
  },
  "language_info": {
   "codemirror_mode": {
    "name": "ipython",
    "version": 3
   },
   "file_extension": ".py",
   "mimetype": "text/x-python",
   "name": "python",
   "nbconvert_exporter": "python",
   "pygments_lexer": "ipython3",
   "version": "3.9.6"
  }
 },
 "nbformat": 4,
 "nbformat_minor": 2
}
