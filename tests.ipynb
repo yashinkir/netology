{
 "cells": [
  {
   "cell_type": "code",
   "execution_count": 2,
   "metadata": {},
   "outputs": [
    {
     "name": "stdout",
     "output_type": "stream",
     "text": [
      "      1   2   3   4   5   6   7   8   9  10\n",
      "--------------------------------------------\n",
      " 1 |   1   2   3   4   5   6   7   8   9  10\n",
      " 2 |   2   4   6   8  10  12  14  16  18  20\n",
      " 3 |   3   6   9  12  15  18  21  24  27  30\n",
      " 4 |   4   8  12  16  20  24  28  32  36  40\n",
      " 5 |   5  10  15  20  25  30  35  40  45  50\n",
      " 6 |   6  12  18  24  30  36  42  48  54  60\n",
      " 7 |   7  14  21  28  35  42  49  56  63  70\n",
      " 8 |   8  16  24  32  40  48  56  64  72  80\n",
      " 9 |   9  18  27  36  45  54  63  72  81  90\n",
      "10 |  10  20  30  40  50  60  70  80  90 100\n"
     ]
    }
   ],
   "source": [
    "def print_multiplication_table(size=10):\n",
    "    # Выводим заголовок таблицы\n",
    "    print(\"   \", end=\"\")\n",
    "    for i in range(1, size + 1):\n",
    "        print(f\"{i:4}\", end=\"\")\n",
    "    print(\"\\n\" + \"----\" * (size + 1))\n",
    "\n",
    "    # Выводим строки таблицы\n",
    "    for i in range(1, size + 1):\n",
    "        print(f\"{i:2} |\", end=\"\")\n",
    "        for j in range(1, size + 1):\n",
    "            print(f\"{i * j:4}\", end=\"\")\n",
    "        print()\n",
    "\n",
    "# Вызов функции для вывода таблицы умножения\n",
    "print_multiplication_table()"
   ]
  },
  {
   "cell_type": "code",
   "execution_count": null,
   "metadata": {},
   "outputs": [],
   "source": [
    "Этот код определяет функцию `print_multiplication_table`, которая выводит таблицу умножения заданного размера (по умолчанию 10x10). Вы можете изменить размер таблицы, передав другой аргумент в функцию.\n"
   ]
  }
 ],
 "metadata": {
  "kernelspec": {
   "display_name": "Python 3",
   "language": "python",
   "name": "python3"
  },
  "language_info": {
   "codemirror_mode": {
    "name": "ipython",
    "version": 3
   },
   "file_extension": ".py",
   "mimetype": "text/x-python",
   "name": "python",
   "nbconvert_exporter": "python",
   "pygments_lexer": "ipython3",
   "version": "3.9.6"
  }
 },
 "nbformat": 4,
 "nbformat_minor": 2
}
