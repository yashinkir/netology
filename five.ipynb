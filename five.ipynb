{
 "cells": [
  {
   "cell_type": "code",
   "execution_count": 11,
   "metadata": {},
   "outputs": [],
   "source": [
    "import json\n",
    "\n",
    "purchase_log_path = 'Downloads/purchase_log.txt'\n",
    "visit_log_path = 'Downloads/visit_log.csv'\n",
    "output_file_path = 'Downloads/funnel.csv'\n",
    "\n",
    "# Загрузка из purchase_log.txt в словарь\n",
    "def load_purchases(file_path: str) -> dict:\n",
    "    purchases = {}\n",
    "    with open(file_path, 'r', encoding='utf-8') as file:\n",
    "        for line in file:\n",
    "            record = json.loads(line.strip())\n",
    "            if 'user_id' in record and 'category' in record:\n",
    "                purchases[record['user_id']] = record['category']\n",
    "    return purchases\n",
    "\n",
    "# Обработка визитов и записи в новый файл\n",
    "def process_visits(purchases: dict, visit_log_path: str, output_file_path: str):\n",
    "    with open(visit_log_path, 'r', encoding='utf-8') as visit_file, \\\n",
    "         open(output_file_path, 'w', encoding='utf-8') as funnel_file:\n",
    "        for line in visit_file:\n",
    "            user_id, source = line.strip().split(',')\n",
    "            if user_id in purchases:\n",
    "                category = purchases[user_id]\n",
    "                # Записываем в файл только те визиты, которые имеют соответствующую покупку\n",
    "                funnel_file.write(f\"{user_id},{source},{category}\\n\")\n",
    "\n",
    "purchases = load_purchases(purchase_log_path)\n",
    "process_visits(purchases, visit_log_path, output_file_path)\n"
   ]
  }
 ],
 "metadata": {
  "kernelspec": {
   "display_name": "Python 3",
   "language": "python",
   "name": "python3"
  },
  "language_info": {
   "codemirror_mode": {
    "name": "ipython",
    "version": 3
   },
   "file_extension": ".py",
   "mimetype": "text/x-python",
   "name": "python",
   "nbconvert_exporter": "python",
   "pygments_lexer": "ipython3",
   "version": "3.9.6"
  }
 },
 "nbformat": 4,
 "nbformat_minor": 2
}
