{
 "cells": [
  {
   "cell_type": "code",
   "execution_count": 35,
   "metadata": {},
   "outputs": [
    {
     "name": "stdout",
     "output_type": "stream",
     "text": [
      "Фраза 1 длиннее фразы 2\n"
     ]
    }
   ],
   "source": [
    "phrase_1 = 'Насколько проще было бы писать программы, если бы не заказчики'\n",
    "phrase_2 = '640Кб должно хватить для любых задач. Билл Гейтс (по легенде)'\n",
    "\n",
    "if len(phrase_1) > len(phrase_2):\n",
    "    print(\"Фраза 1 длиннее фразы 2\")\n",
    "elif len(phrase_1) < len(phrase_2):\n",
    "    print(\"Фраза 2 длиннее фразы 1\")\n",
    "else:\n",
    "    print(\"Фразы равной длины\")\n"
   ]
  },
  {
   "cell_type": "code",
   "execution_count": 3,
   "metadata": {},
   "outputs": [
    {
     "name": "stdout",
     "output_type": "stream",
     "text": [
      "Обычный год\n"
     ]
    }
   ],
   "source": [
    "year = 2025\n",
    "\n",
    "if (year % 4 == 0 and year % 100 != 0) or (year % 400 == 0):\n",
    "    print(\"Високосный год\")\n",
    "else:\n",
    "    print(\"Обычный год\")"
   ]
  },
  {
   "cell_type": "code",
   "execution_count": 5,
   "metadata": {},
   "outputs": [
    {
     "name": "stdout",
     "output_type": "stream",
     "text": [
      "Ваш знак зодиака:  Весы\n"
     ]
    }
   ],
   "source": [
    "# Ввод дня и месяца рождения\n",
    "day = int(input(\"Введите день: \"))\n",
    "month = int(input(\"Введите месяц (число): \"))\n",
    "\n",
    "# Определение знака зодиака на основе дня и месяца\n",
    "if (month == 3 and day >= 21) or (month == 4 and day <= 19):\n",
    "    zodiac_sign = 'Овен'\n",
    "elif (month == 4 and day >= 20) or (month == 5 and day <= 20):\n",
    "    zodiac_sign = 'Телец'\n",
    "elif (month == '5' and day >= 21) or (month == 6 and day <= 20):\n",
    "    zodiac_sign = 'Близнецы'\n",
    "elif (month == 6 and day >= 21) or (month == 7 and day <= 22):\n",
    "    zodiac_sign = 'Рак'\n",
    "elif (month == 7 and day >= 23) or (month == 8 and day <= 22):\n",
    "    zodiac_sign = 'Лев'\n",
    "elif (month == 8 and day >= 23) or (month == 9 and day <= 22):\n",
    "    zodiac_sign = 'Дева'\n",
    "elif (month == 9 and day >= 23) or (month == 10 and day <= 22):\n",
    "    zodiac_sign = 'Весы'\n",
    "elif (month == 10 and day >= 23) or (month == 11 and day <= 21):\n",
    "    zodiac_sign = 'Скорпион'\n",
    "elif (month == 11 and day >= 22) or (month == 12 and day <= 21):\n",
    "    zodiac_sign = 'Стрелец'\n",
    "elif (month == 12 and day >= 22) or (month == 1 and day <= 19):\n",
    "    zodiac_sign = 'Козерог'\n",
    "elif (month == 1 and day >= 20) or (month == 2 and day <= 18):\n",
    "    zodiac_sign = 'Водолей'\n",
    "elif (month == 2 and day >= 19) or (month == 3 and day <= 20):\n",
    "    zodiac_sign = 'Рыбы'\n",
    "else:\n",
    "    zodiac_sign = 'Некорректная дата'  # Если ни одно условие не выполнено\n",
    "\n",
    "# Вывод результата\n",
    "print(\"Ваш знак зодиака: \", zodiac_sign)"
   ]
  },
  {
   "cell_type": "code",
   "execution_count": 12,
   "metadata": {},
   "outputs": [
    {
     "name": "stdout",
     "output_type": "stream",
     "text": [
      "Коробка №1\n"
     ]
    }
   ],
   "source": [
    "\n",
    "width = 10\n",
    "length = 10\n",
    "height = 15\n",
    "\n",
    "# Проверка условий для выбора подходящей упаковки\n",
    "if width <= 15 and length <= 15 and height <= 15:\n",
    "    print(\"Коробка №1\")\n",
    "elif width > 200 or length > 200 or height > 200:\n",
    "    print(\"Упаковка для лыж\")\n",
    "elif 15 < width < 50 or 15 < length < 50 or 15 < height < 50:\n",
    "    print(\"Коробка №2\")\n",
    "else:\n",
    "    print(\"Коробка №3\")\n"
   ]
  }
 ],
 "metadata": {
  "kernelspec": {
   "display_name": "Python 3",
   "language": "python",
   "name": "python3"
  },
  "language_info": {
   "codemirror_mode": {
    "name": "ipython",
    "version": 3
   },
   "file_extension": ".py",
   "mimetype": "text/x-python",
   "name": "python",
   "nbconvert_exporter": "python",
   "pygments_lexer": "ipython3",
   "version": "3.9.6"
  }
 },
 "nbformat": 4,
 "nbformat_minor": 2
}
