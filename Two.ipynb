{
 "cells": [
  {
   "cell_type": "code",
   "execution_count": null,
   "metadata": {},
   "outputs": [
    {
     "name": "stdout",
     "output_type": "stream",
     "text": [
      "а\n"
     ]
    }
   ],
   "source": [
    "word = input(\"Введите слово: \")\n",
    "\n",
    "length = len(word)\n",
    "\n",
    "# Проверка четности количества букв\n",
    "if length % 2 == 0:\n",
    "    #тут делаем срез для двух букв с и до в середине\n",
    "    middle = word[(length // 2 - 1):(length // 2 + 1)]\n",
    "else:\n",
    "    #аналогично срез, но интервал не нужен\n",
    "    middle = word[length // 2]\n",
    "\n",
    "\n",
    "print(middle)\n"
   ]
  },
  {
   "cell_type": "code",
   "execution_count": 3,
   "metadata": {},
   "outputs": [
    {
     "name": "stdout",
     "output_type": "stream",
     "text": [
      "Результат: 18\n"
     ]
    }
   ],
   "source": [
    "total_sum = 0\n",
    "\n",
    "while True:\n",
    "    # Запрос числа у пользователя\n",
    "    number = int(input(\"Введите число: \"))\n",
    "    \n",
    "    #проверяем ввод нуля\n",
    "    if number == 0:\n",
    "        # показываем сумму и результат\n",
    "        print(f\"Результат: {total_sum}\")\n",
    "        break\n",
    "    \n",
    "    # если не ноль, то прибавляем к текущему числу\n",
    "    total_sum += number"
   ]
  }
 ],
 "metadata": {
  "kernelspec": {
   "display_name": "Python 3",
   "language": "python",
   "name": "python3"
  },
  "language_info": {
   "codemirror_mode": {
    "name": "ipython",
    "version": 3
   },
   "file_extension": ".py",
   "mimetype": "text/x-python",
   "name": "python",
   "nbconvert_exporter": "python",
   "pygments_lexer": "ipython3",
   "version": "3.9.6"
  }
 },
 "nbformat": 4,
 "nbformat_minor": 2
}
